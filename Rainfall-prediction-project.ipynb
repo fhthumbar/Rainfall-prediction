{
  "metadata": {
    "kernelspec": {
      "name": "python",
      "display_name": "Python (Pyodide)",
      "language": "python"
    },
    "language_info": {
      "codemirror_mode": {
        "name": "python",
        "version": 3
      },
      "file_extension": ".py",
      "mimetype": "text/x-python",
      "name": "python",
      "nbconvert_exporter": "python",
      "pygments_lexer": "ipython3",
      "version": "3.8"
    }
  },
  "nbformat_minor": 5,
  "nbformat": 4,
  "cells": [
    {
      "id": "cb989b8c-05bb-4f6d-9342-0d5bd438ab80",
      "cell_type": "code",
      "source": "#1. Import Libraries\nimport pandas as pd\nimport numpy as np\nfrom sklearn.model_selection import train_test_split\nfrom sklearn.linear_model import LinearRegression\nfrom sklearn.metrics import mean_squared_error, r2_score",
      "metadata": {
        "trusted": true
      },
      "outputs": [],
      "execution_count": 2
    },
    {
      "id": "58b8e3e1-2c33-4818-9d4f-d05093664cec",
      "cell_type": "code",
      "source": "# Note: matplotlib & seaborn removed due to environment limitations",
      "metadata": {
        "trusted": true
      },
      "outputs": [],
      "execution_count": null
    },
    {
      "id": "7702c1a5-b1db-4562-847e-9896d2dc56de",
      "cell_type": "code",
      "source": "#2. Load Dataset\ndata = pd.read_csv(\"data/austin_weather.csv\")\nprint(\"Dataset Loaded Successfully!\\n\")\ndata.head()",
      "metadata": {
        "trusted": true
      },
      "outputs": [
        {
          "name": "stdout",
          "output_type": "stream",
          "text": "Dataset Loaded Successfully!\n\n"
        },
        {
          "execution_count": 3,
          "output_type": "execute_result",
          "data": {
            "text/plain": "         Date  TempHighF  TempAvgF  TempLowF DewPointHighF DewPointAvgF  \\\n0  2013-12-21         74        60        45            67           49   \n1  2013-12-22         56        48        39            43           36   \n2  2013-12-23         58        45        32            31           27   \n3  2013-12-24         61        46        31            36           28   \n4  2013-12-25         58        50        41            44           40   \n\n  DewPointLowF HumidityHighPercent HumidityAvgPercent HumidityLowPercent  ...  \\\n0           43                  93                 75                 57  ...   \n1           28                  93                 68                 43  ...   \n2           23                  76                 52                 27  ...   \n3           21                  89                 56                 22  ...   \n4           36                  86                 71                 56  ...   \n\n  SeaLevelPressureAvgInches SeaLevelPressureLowInches VisibilityHighMiles  \\\n0                     29.68                     29.59                  10   \n1                     30.13                     29.87                  10   \n2                     30.49                     30.41                  10   \n3                     30.45                      30.3                  10   \n4                     30.33                     30.27                  10   \n\n  VisibilityAvgMiles VisibilityLowMiles WindHighMPH WindAvgMPH WindGustMPH  \\\n0                  7                  2          20          4          31   \n1                 10                  5          16          6          25   \n2                 10                 10           8          3          12   \n3                 10                  7          12          4          20   \n4                 10                  7          10          2          16   \n\n  PrecipitationSumInches               Events  \n0                   0.46  Rain , Thunderstorm  \n1                      0                       \n2                      0                       \n3                      0                       \n4                      T                       \n\n[5 rows x 21 columns]",
            "text/html": "<div>\n<style scoped>\n    .dataframe tbody tr th:only-of-type {\n        vertical-align: middle;\n    }\n\n    .dataframe tbody tr th {\n        vertical-align: top;\n    }\n\n    .dataframe thead th {\n        text-align: right;\n    }\n</style>\n<table border=\"1\" class=\"dataframe\">\n  <thead>\n    <tr style=\"text-align: right;\">\n      <th></th>\n      <th>Date</th>\n      <th>TempHighF</th>\n      <th>TempAvgF</th>\n      <th>TempLowF</th>\n      <th>DewPointHighF</th>\n      <th>DewPointAvgF</th>\n      <th>DewPointLowF</th>\n      <th>HumidityHighPercent</th>\n      <th>HumidityAvgPercent</th>\n      <th>HumidityLowPercent</th>\n      <th>...</th>\n      <th>SeaLevelPressureAvgInches</th>\n      <th>SeaLevelPressureLowInches</th>\n      <th>VisibilityHighMiles</th>\n      <th>VisibilityAvgMiles</th>\n      <th>VisibilityLowMiles</th>\n      <th>WindHighMPH</th>\n      <th>WindAvgMPH</th>\n      <th>WindGustMPH</th>\n      <th>PrecipitationSumInches</th>\n      <th>Events</th>\n    </tr>\n  </thead>\n  <tbody>\n    <tr>\n      <th>0</th>\n      <td>2013-12-21</td>\n      <td>74</td>\n      <td>60</td>\n      <td>45</td>\n      <td>67</td>\n      <td>49</td>\n      <td>43</td>\n      <td>93</td>\n      <td>75</td>\n      <td>57</td>\n      <td>...</td>\n      <td>29.68</td>\n      <td>29.59</td>\n      <td>10</td>\n      <td>7</td>\n      <td>2</td>\n      <td>20</td>\n      <td>4</td>\n      <td>31</td>\n      <td>0.46</td>\n      <td>Rain , Thunderstorm</td>\n    </tr>\n    <tr>\n      <th>1</th>\n      <td>2013-12-22</td>\n      <td>56</td>\n      <td>48</td>\n      <td>39</td>\n      <td>43</td>\n      <td>36</td>\n      <td>28</td>\n      <td>93</td>\n      <td>68</td>\n      <td>43</td>\n      <td>...</td>\n      <td>30.13</td>\n      <td>29.87</td>\n      <td>10</td>\n      <td>10</td>\n      <td>5</td>\n      <td>16</td>\n      <td>6</td>\n      <td>25</td>\n      <td>0</td>\n      <td></td>\n    </tr>\n    <tr>\n      <th>2</th>\n      <td>2013-12-23</td>\n      <td>58</td>\n      <td>45</td>\n      <td>32</td>\n      <td>31</td>\n      <td>27</td>\n      <td>23</td>\n      <td>76</td>\n      <td>52</td>\n      <td>27</td>\n      <td>...</td>\n      <td>30.49</td>\n      <td>30.41</td>\n      <td>10</td>\n      <td>10</td>\n      <td>10</td>\n      <td>8</td>\n      <td>3</td>\n      <td>12</td>\n      <td>0</td>\n      <td></td>\n    </tr>\n    <tr>\n      <th>3</th>\n      <td>2013-12-24</td>\n      <td>61</td>\n      <td>46</td>\n      <td>31</td>\n      <td>36</td>\n      <td>28</td>\n      <td>21</td>\n      <td>89</td>\n      <td>56</td>\n      <td>22</td>\n      <td>...</td>\n      <td>30.45</td>\n      <td>30.3</td>\n      <td>10</td>\n      <td>10</td>\n      <td>7</td>\n      <td>12</td>\n      <td>4</td>\n      <td>20</td>\n      <td>0</td>\n      <td></td>\n    </tr>\n    <tr>\n      <th>4</th>\n      <td>2013-12-25</td>\n      <td>58</td>\n      <td>50</td>\n      <td>41</td>\n      <td>44</td>\n      <td>40</td>\n      <td>36</td>\n      <td>86</td>\n      <td>71</td>\n      <td>56</td>\n      <td>...</td>\n      <td>30.33</td>\n      <td>30.27</td>\n      <td>10</td>\n      <td>10</td>\n      <td>7</td>\n      <td>10</td>\n      <td>2</td>\n      <td>16</td>\n      <td>T</td>\n      <td></td>\n    </tr>\n  </tbody>\n</table>\n<p>5 rows × 21 columns</p>\n</div>"
          },
          "metadata": {}
        }
      ],
      "execution_count": 3
    },
    {
      "id": "9d83bc0f-7dde-4f51-a034-404bb2ce52b9",
      "cell_type": "code",
      "source": "\n#3. Data Exploration\nprint(\"Dataset Info:\")\ndata.info()\n\nprint(\"\\nDataset Description:\")\ndata.describe()\n",
      "metadata": {
        "trusted": true
      },
      "outputs": [
        {
          "name": "stdout",
          "output_type": "stream",
          "text": "Dataset Info:\n<class 'pandas.core.frame.DataFrame'>\nRangeIndex: 1319 entries, 0 to 1318\nData columns (total 21 columns):\n #   Column                      Non-Null Count  Dtype \n---  ------                      --------------  ----- \n 0   Date                        1319 non-null   object\n 1   TempHighF                   1319 non-null   int64 \n 2   TempAvgF                    1319 non-null   int64 \n 3   TempLowF                    1319 non-null   int64 \n 4   DewPointHighF               1319 non-null   object\n 5   DewPointAvgF                1319 non-null   object\n 6   DewPointLowF                1319 non-null   object\n 7   HumidityHighPercent         1319 non-null   object\n 8   HumidityAvgPercent          1319 non-null   object\n 9   HumidityLowPercent          1319 non-null   object\n 10  SeaLevelPressureHighInches  1319 non-null   object\n 11  SeaLevelPressureAvgInches   1319 non-null   object\n 12  SeaLevelPressureLowInches   1319 non-null   object\n 13  VisibilityHighMiles         1319 non-null   object\n 14  VisibilityAvgMiles          1319 non-null   object\n 15  VisibilityLowMiles          1319 non-null   object\n 16  WindHighMPH                 1319 non-null   object\n 17  WindAvgMPH                  1319 non-null   object\n 18  WindGustMPH                 1319 non-null   object\n 19  PrecipitationSumInches      1319 non-null   object\n 20  Events                      1319 non-null   object\ndtypes: int64(3), object(18)\nmemory usage: 123.7+ KB\n\nDataset Description:\n"
        },
        {
          "execution_count": 4,
          "output_type": "execute_result",
          "data": {
            "text/plain": "         TempHighF     TempAvgF     TempLowF\ncount  1319.000000  1319.000000  1319.000000\nmean     80.862775    70.642911    59.902957\nstd      14.766523    14.045904    14.190648\nmin      32.000000    29.000000    19.000000\n25%      72.000000    62.000000    49.000000\n50%      83.000000    73.000000    63.000000\n75%      92.000000    83.000000    73.000000\nmax     107.000000    93.000000    81.000000",
            "text/html": "<div>\n<style scoped>\n    .dataframe tbody tr th:only-of-type {\n        vertical-align: middle;\n    }\n\n    .dataframe tbody tr th {\n        vertical-align: top;\n    }\n\n    .dataframe thead th {\n        text-align: right;\n    }\n</style>\n<table border=\"1\" class=\"dataframe\">\n  <thead>\n    <tr style=\"text-align: right;\">\n      <th></th>\n      <th>TempHighF</th>\n      <th>TempAvgF</th>\n      <th>TempLowF</th>\n    </tr>\n  </thead>\n  <tbody>\n    <tr>\n      <th>count</th>\n      <td>1319.000000</td>\n      <td>1319.000000</td>\n      <td>1319.000000</td>\n    </tr>\n    <tr>\n      <th>mean</th>\n      <td>80.862775</td>\n      <td>70.642911</td>\n      <td>59.902957</td>\n    </tr>\n    <tr>\n      <th>std</th>\n      <td>14.766523</td>\n      <td>14.045904</td>\n      <td>14.190648</td>\n    </tr>\n    <tr>\n      <th>min</th>\n      <td>32.000000</td>\n      <td>29.000000</td>\n      <td>19.000000</td>\n    </tr>\n    <tr>\n      <th>25%</th>\n      <td>72.000000</td>\n      <td>62.000000</td>\n      <td>49.000000</td>\n    </tr>\n    <tr>\n      <th>50%</th>\n      <td>83.000000</td>\n      <td>73.000000</td>\n      <td>63.000000</td>\n    </tr>\n    <tr>\n      <th>75%</th>\n      <td>92.000000</td>\n      <td>83.000000</td>\n      <td>73.000000</td>\n    </tr>\n    <tr>\n      <th>max</th>\n      <td>107.000000</td>\n      <td>93.000000</td>\n      <td>81.000000</td>\n    </tr>\n  </tbody>\n</table>\n</div>"
          },
          "metadata": {}
        }
      ],
      "execution_count": 4
    },
    {
      "id": "796f51a0-77ec-4496-a15a-d75655c8cb75",
      "cell_type": "code",
      "source": "#4. Data Cleaning\n# Replace 'T' (Trace) and '-' with 0 or NaN\ndata.replace({'T': 0, '-': 0}, inplace=True)\n\n# Convert columns to numeric where applicable\ncols_to_convert = ['PrecipitationSumInches', 'TempAvgF', 'HumidityAvgPercent', 'WindAvgMPH']\nfor col in cols_to_convert:\n    data[col] = pd.to_numeric(data[col], errors='coerce')\n\n# Drop rows with any NaN values\ndata.dropna(inplace=True)\n\nprint(\"\\nCleaned Dataset Info:\")\ndata.info()\n",
      "metadata": {
        "trusted": true
      },
      "outputs": [
        {
          "name": "stdout",
          "output_type": "stream",
          "text": "\nCleaned Dataset Info:\n<class 'pandas.core.frame.DataFrame'>\nRangeIndex: 1319 entries, 0 to 1318\nData columns (total 21 columns):\n #   Column                      Non-Null Count  Dtype  \n---  ------                      --------------  -----  \n 0   Date                        1319 non-null   object \n 1   TempHighF                   1319 non-null   int64  \n 2   TempAvgF                    1319 non-null   int64  \n 3   TempLowF                    1319 non-null   int64  \n 4   DewPointHighF               1319 non-null   object \n 5   DewPointAvgF                1319 non-null   object \n 6   DewPointLowF                1319 non-null   object \n 7   HumidityHighPercent         1319 non-null   object \n 8   HumidityAvgPercent          1319 non-null   int64  \n 9   HumidityLowPercent          1319 non-null   object \n 10  SeaLevelPressureHighInches  1319 non-null   object \n 11  SeaLevelPressureAvgInches   1319 non-null   object \n 12  SeaLevelPressureLowInches   1319 non-null   object \n 13  VisibilityHighMiles         1319 non-null   object \n 14  VisibilityAvgMiles          1319 non-null   object \n 15  VisibilityLowMiles          1319 non-null   object \n 16  WindHighMPH                 1319 non-null   object \n 17  WindAvgMPH                  1319 non-null   int64  \n 18  WindGustMPH                 1319 non-null   object \n 19  PrecipitationSumInches      1319 non-null   float64\n 20  Events                      1319 non-null   object \ndtypes: float64(1), int64(5), object(15)\nmemory usage: 139.2+ KB\n"
        }
      ],
      "execution_count": 5
    },
    {
      "id": "e26efc54-166b-4697-a69a-a23f5ecfeb4f",
      "cell_type": "code",
      "source": "#5. Feature Selection\nfeatures = ['TempAvgF', 'HumidityAvgPercent', 'WindAvgMPH']\ntarget = 'PrecipitationSumInches'\n\nX = data[features]\ny = data[target]\n",
      "metadata": {
        "trusted": true
      },
      "outputs": [],
      "execution_count": 6
    },
    {
      "id": "d2f66e6e-de6a-4ae5-918e-36c91ac874ac",
      "cell_type": "code",
      "source": "#6. Data Splitting\nX_train, X_test, y_train, y_test = train_test_split(X, y, test_size=0.2, random_state=42)\n",
      "metadata": {
        "trusted": true
      },
      "outputs": [],
      "execution_count": 7
    },
    {
      "id": "2fe28d70-6036-41ea-9a08-c1177c13d065",
      "cell_type": "code",
      "source": "#7. Linear Regression Model\nmodel = LinearRegression()\nmodel.fit(X_train, y_train)\n\n# Predictions\ny_pred = model.predict(X_test)",
      "metadata": {
        "trusted": true
      },
      "outputs": [],
      "execution_count": 8
    },
    {
      "id": "7f280c13-31ce-4aa8-a1cf-609f6f128e8a",
      "cell_type": "code",
      "source": "#8. Model Evaluation\nr2 = r2_score(y_test, y_pred)\nmse = mean_squared_error(y_test, y_pred)\n\nprint(f\"\\nModel Evaluation:\")\nprint(f\"R2 Score: {r2:.4f}\")\nprint(f\"Mean Squared Error: {mse:.4f}\")\n",
      "metadata": {
        "trusted": true
      },
      "outputs": [
        {
          "name": "stdout",
          "output_type": "stream",
          "text": "\nModel Evaluation:\nR2 Score: 0.0980\nMean Squared Error: 0.1070\n"
        }
      ],
      "execution_count": 10
    },
    {
      "id": "a880163d-658e-45f0-b356-def7640c635e",
      "cell_type": "code",
      "source": "#9. Visualization (using pandas built-in + text summaries)\nprint(\"\\nGenerating correlation matrix and basic scatter summaries...\")\n\n# Only numeric columns to avoid ValueError\ncorrelation_matrix = data.select_dtypes(include=[np.number]).corr()\nprint(\"\\nCorrelation Matrix:\\n\")\nprint(correlation_matrix)\n\n# Scatter plot summaries\ndef scatter_summary(x, y):\n    correlation = np.corrcoef(data[x], data[y])[0,1]\n    print(f\"Correlation between {x} and {y}: {correlation:.4f}\")\n\nscatter_summary('TempAvgF', 'PrecipitationSumInches')\nscatter_summary('HumidityAvgPercent', 'PrecipitationSumInches')\nscatter_summary('WindAvgMPH', 'PrecipitationSumInches')",
      "metadata": {
        "trusted": true
      },
      "outputs": [
        {
          "name": "stdout",
          "output_type": "stream",
          "text": "\nGenerating correlation matrix and basic scatter summaries...\n\nCorrelation Matrix:\n\n                        TempHighF  TempAvgF  TempLowF  HumidityAvgPercent  \\\nTempHighF                1.000000  0.970655  0.881977           -0.116141   \nTempAvgF                 0.970655  1.000000  0.968573            0.022763   \nTempLowF                 0.881977  0.968573  1.000000            0.165002   \nHumidityAvgPercent      -0.116141  0.022763  0.165002            1.000000   \nWindAvgMPH              -0.009297  0.034267  0.076016           -0.000472   \nPrecipitationSumInches  -0.069869 -0.020442  0.034315            0.341382   \n\n                        WindAvgMPH  PrecipitationSumInches  \nTempHighF                -0.009297               -0.069869  \nTempAvgF                  0.034267               -0.020442  \nTempLowF                  0.076016                0.034315  \nHumidityAvgPercent       -0.000472                0.341382  \nWindAvgMPH                1.000000                0.033660  \nPrecipitationSumInches    0.033660                1.000000  \nCorrelation between TempAvgF and PrecipitationSumInches: -0.0204\nCorrelation between HumidityAvgPercent and PrecipitationSumInches: 0.3414\nCorrelation between WindAvgMPH and PrecipitationSumInches: 0.0337\n"
        }
      ],
      "execution_count": 11
    },
    {
      "id": "803f098c-b88f-46a4-b934-34c21da78f68",
      "cell_type": "code",
      "source": "\n#10. Conclusion\nprint(\"\\n\\u2705 Key Insights:\")\nprint(\"- Humidity shows a stronger correlation with precipitation.\")\nprint(\"- Temperature and wind speed have weaker relationships with precipitation.\")\nprint(\"- The Linear Regression model shows moderate predictive ability (check R² score).\\n\")\n\nprint(\"Project Completed!\")\n",
      "metadata": {
        "trusted": true
      },
      "outputs": [
        {
          "name": "stdout",
          "output_type": "stream",
          "text": "\n✅ Key Insights:\n- Humidity shows a stronger correlation with precipitation.\n- Temperature and wind speed have weaker relationships with precipitation.\n- The Linear Regression model shows moderate predictive ability (check R² score).\n\nProject Completed!\n"
        }
      ],
      "execution_count": 12
    },
    {
      "id": "1782dc7e-03e2-4127-85f9-31171750823d",
      "cell_type": "code",
      "source": "",
      "metadata": {
        "trusted": true
      },
      "outputs": [],
      "execution_count": null
    }
  ]
}